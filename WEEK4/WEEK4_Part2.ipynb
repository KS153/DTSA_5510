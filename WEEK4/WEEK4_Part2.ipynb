{
 "cells": [
  {
   "cell_type": "markdown",
   "id": "4b17ca75",
   "metadata": {},
   "source": [
    "# Part 1. Load the movie ratings data and predict the missing ratings from the test data by using sklearn's non-negative matrix facorization library.\n",
    "\n",
    "## - load the movie rating data (as in the HW3-recommender-system) "
   ]
  },
  {
   "cell_type": "code",
   "execution_count": 1,
   "id": "42cb01b6",
   "metadata": {},
   "outputs": [],
   "source": [
    "import pandas as pd\n",
    "import matplotlib.pyplot as plt\n",
    "import numpy as np\n",
    "import time\n",
    "from sklearn.model_selection import train_test_split\n",
    "from scipy.sparse import coo_matrix, csr_matrix\n",
    "from scipy.spatial.distance import jaccard, cosine \n",
    "from pytest import approx\n",
    "\n",
    "from sklearn.decomposition import NMF\n",
    "import warnings\n",
    "from numpy import zeros"
   ]
  },
  {
   "cell_type": "code",
   "execution_count": 2,
   "id": "fbc3b4d4",
   "metadata": {},
   "outputs": [
    {
     "data": {
      "text/html": [
       "<div>\n",
       "<style scoped>\n",
       "    .dataframe tbody tr th:only-of-type {\n",
       "        vertical-align: middle;\n",
       "    }\n",
       "\n",
       "    .dataframe tbody tr th {\n",
       "        vertical-align: top;\n",
       "    }\n",
       "\n",
       "    .dataframe thead th {\n",
       "        text-align: right;\n",
       "    }\n",
       "</style>\n",
       "<table border=\"1\" class=\"dataframe\">\n",
       "  <thead>\n",
       "    <tr style=\"text-align: right;\">\n",
       "      <th></th>\n",
       "      <th>uID</th>\n",
       "      <th>mID</th>\n",
       "      <th>rating</th>\n",
       "      <th>time</th>\n",
       "    </tr>\n",
       "  </thead>\n",
       "  <tbody>\n",
       "    <tr>\n",
       "      <th>0</th>\n",
       "      <td>1</td>\n",
       "      <td>1193</td>\n",
       "      <td>5</td>\n",
       "      <td>978300760</td>\n",
       "    </tr>\n",
       "    <tr>\n",
       "      <th>1</th>\n",
       "      <td>1</td>\n",
       "      <td>661</td>\n",
       "      <td>3</td>\n",
       "      <td>978302109</td>\n",
       "    </tr>\n",
       "    <tr>\n",
       "      <th>2</th>\n",
       "      <td>1</td>\n",
       "      <td>914</td>\n",
       "      <td>3</td>\n",
       "      <td>978301968</td>\n",
       "    </tr>\n",
       "    <tr>\n",
       "      <th>3</th>\n",
       "      <td>1</td>\n",
       "      <td>3408</td>\n",
       "      <td>4</td>\n",
       "      <td>978300275</td>\n",
       "    </tr>\n",
       "    <tr>\n",
       "      <th>4</th>\n",
       "      <td>1</td>\n",
       "      <td>2355</td>\n",
       "      <td>5</td>\n",
       "      <td>978824291</td>\n",
       "    </tr>\n",
       "  </tbody>\n",
       "</table>\n",
       "</div>"
      ],
      "text/plain": [
       "   uID   mID  rating       time\n",
       "0    1  1193       5  978300760\n",
       "1    1   661       3  978302109\n",
       "2    1   914       3  978301968\n",
       "3    1  3408       4  978300275\n",
       "4    1  2355       5  978824291"
      ]
     },
     "execution_count": 2,
     "metadata": {},
     "output_type": "execute_result"
    }
   ],
   "source": [
    "# Read the ratings data\n",
    "ratingData = pd.read_csv('ratings.dat', names=['uID', 'mID', 'rating', 'time'], engine='python', delimiter='::')\n",
    "ratingData.head()"
   ]
  },
  {
   "cell_type": "code",
   "execution_count": 3,
   "id": "f338969f",
   "metadata": {},
   "outputs": [
    {
     "data": {
      "text/plain": [
       "count    1.000209e+06\n",
       "mean     3.581564e+00\n",
       "std      1.117102e+00\n",
       "min      1.000000e+00\n",
       "25%      3.000000e+00\n",
       "50%      4.000000e+00\n",
       "75%      4.000000e+00\n",
       "max      5.000000e+00\n",
       "Name: rating, dtype: float64"
      ]
     },
     "execution_count": 3,
     "metadata": {},
     "output_type": "execute_result"
    }
   ],
   "source": [
    "ratingData['rating'].describe()"
   ]
  },
  {
   "cell_type": "code",
   "execution_count": 4,
   "id": "3a1882e5",
   "metadata": {},
   "outputs": [],
   "source": [
    "train, test = train_test_split(ratingData, test_size=0.2, random_state=42)"
   ]
  },
  {
   "cell_type": "code",
   "execution_count": 5,
   "id": "af7d4ef3",
   "metadata": {},
   "outputs": [
    {
     "data": {
      "text/html": [
       "<div>\n",
       "<style scoped>\n",
       "    .dataframe tbody tr th:only-of-type {\n",
       "        vertical-align: middle;\n",
       "    }\n",
       "\n",
       "    .dataframe tbody tr th {\n",
       "        vertical-align: top;\n",
       "    }\n",
       "\n",
       "    .dataframe thead th {\n",
       "        text-align: right;\n",
       "    }\n",
       "</style>\n",
       "<table border=\"1\" class=\"dataframe\">\n",
       "  <thead>\n",
       "    <tr style=\"text-align: right;\">\n",
       "      <th></th>\n",
       "      <th>mID</th>\n",
       "      <th>title</th>\n",
       "      <th>genre</th>\n",
       "    </tr>\n",
       "  </thead>\n",
       "  <tbody>\n",
       "    <tr>\n",
       "      <th>0</th>\n",
       "      <td>1</td>\n",
       "      <td>Toy Story (1995)</td>\n",
       "      <td>Animation|Children's|Comedy</td>\n",
       "    </tr>\n",
       "    <tr>\n",
       "      <th>1</th>\n",
       "      <td>2</td>\n",
       "      <td>Jumanji (1995)</td>\n",
       "      <td>Adventure|Children's|Fantasy</td>\n",
       "    </tr>\n",
       "    <tr>\n",
       "      <th>2</th>\n",
       "      <td>3</td>\n",
       "      <td>Grumpier Old Men (1995)</td>\n",
       "      <td>Comedy|Romance</td>\n",
       "    </tr>\n",
       "    <tr>\n",
       "      <th>3</th>\n",
       "      <td>4</td>\n",
       "      <td>Waiting to Exhale (1995)</td>\n",
       "      <td>Comedy|Drama</td>\n",
       "    </tr>\n",
       "    <tr>\n",
       "      <th>4</th>\n",
       "      <td>5</td>\n",
       "      <td>Father of the Bride Part II (1995)</td>\n",
       "      <td>Comedy</td>\n",
       "    </tr>\n",
       "  </tbody>\n",
       "</table>\n",
       "</div>"
      ],
      "text/plain": [
       "   mID                               title                         genre\n",
       "0    1                    Toy Story (1995)   Animation|Children's|Comedy\n",
       "1    2                      Jumanji (1995)  Adventure|Children's|Fantasy\n",
       "2    3             Grumpier Old Men (1995)                Comedy|Romance\n",
       "3    4            Waiting to Exhale (1995)                  Comedy|Drama\n",
       "4    5  Father of the Bride Part II (1995)                        Comedy"
      ]
     },
     "execution_count": 5,
     "metadata": {},
     "output_type": "execute_result"
    }
   ],
   "source": [
    "# Read the movie data\n",
    "MV_movies = pd.read_csv('movies.dat', names=['mID', 'title', 'genre'], engine='python', delimiter='::',encoding='latin-1')\n",
    "MV_movies.head()"
   ]
  },
  {
   "cell_type": "code",
   "execution_count": 6,
   "id": "cba237a7",
   "metadata": {},
   "outputs": [
    {
     "data": {
      "text/html": [
       "<div>\n",
       "<style scoped>\n",
       "    .dataframe tbody tr th:only-of-type {\n",
       "        vertical-align: middle;\n",
       "    }\n",
       "\n",
       "    .dataframe tbody tr th {\n",
       "        vertical-align: top;\n",
       "    }\n",
       "\n",
       "    .dataframe thead th {\n",
       "        text-align: right;\n",
       "    }\n",
       "</style>\n",
       "<table border=\"1\" class=\"dataframe\">\n",
       "  <thead>\n",
       "    <tr style=\"text-align: right;\">\n",
       "      <th></th>\n",
       "      <th>uID</th>\n",
       "      <th>Gender</th>\n",
       "      <th>Age</th>\n",
       "      <th>Occupation</th>\n",
       "      <th>Zip-code</th>\n",
       "    </tr>\n",
       "  </thead>\n",
       "  <tbody>\n",
       "    <tr>\n",
       "      <th>0</th>\n",
       "      <td>1</td>\n",
       "      <td>F</td>\n",
       "      <td>1</td>\n",
       "      <td>10</td>\n",
       "      <td>48067</td>\n",
       "    </tr>\n",
       "    <tr>\n",
       "      <th>1</th>\n",
       "      <td>2</td>\n",
       "      <td>M</td>\n",
       "      <td>56</td>\n",
       "      <td>16</td>\n",
       "      <td>70072</td>\n",
       "    </tr>\n",
       "    <tr>\n",
       "      <th>2</th>\n",
       "      <td>3</td>\n",
       "      <td>M</td>\n",
       "      <td>25</td>\n",
       "      <td>15</td>\n",
       "      <td>55117</td>\n",
       "    </tr>\n",
       "    <tr>\n",
       "      <th>3</th>\n",
       "      <td>4</td>\n",
       "      <td>M</td>\n",
       "      <td>45</td>\n",
       "      <td>7</td>\n",
       "      <td>02460</td>\n",
       "    </tr>\n",
       "    <tr>\n",
       "      <th>4</th>\n",
       "      <td>5</td>\n",
       "      <td>M</td>\n",
       "      <td>25</td>\n",
       "      <td>20</td>\n",
       "      <td>55455</td>\n",
       "    </tr>\n",
       "  </tbody>\n",
       "</table>\n",
       "</div>"
      ],
      "text/plain": [
       "   uID Gender  Age  Occupation Zip-code\n",
       "0    1      F    1          10    48067\n",
       "1    2      M   56          16    70072\n",
       "2    3      M   25          15    55117\n",
       "3    4      M   45           7    02460\n",
       "4    5      M   25          20    55455"
      ]
     },
     "execution_count": 6,
     "metadata": {},
     "output_type": "execute_result"
    }
   ],
   "source": [
    "column_names = ['uID', 'Gender', 'Age', 'Occupation', 'Zip-code']\n",
    "MV_users = pd.read_csv(\"users.dat\", sep = \"::\", names = column_names, engine='python')\n",
    "MV_users.head()\n",
    "#users.drop('Zip-code',axis = 1).head()"
   ]
  },
  {
   "cell_type": "code",
   "execution_count": 7,
   "id": "3f226091",
   "metadata": {},
   "outputs": [],
   "source": [
    "from collections import namedtuple\n",
    "Data = namedtuple('Data', ['users','movies','train','test'])\n",
    "data = Data(MV_users, MV_movies, train, test)"
   ]
  },
  {
   "cell_type": "code",
   "execution_count": 8,
   "id": "b03a1c46",
   "metadata": {},
   "outputs": [],
   "source": [
    "class RecSys():\n",
    "    def __init__(self,data):\n",
    "        self.data=data\n",
    "        self.allusers = list(self.data.users['uID'])\n",
    "        self.allmovies = list(self.data.movies['mID'])\n",
    "        self.genres = list(self.data.movies.columns.drop(['mID', 'title']))\n",
    "        self.mid2idx = dict(zip(self.data.movies.mID,list(range(len(self.data.movies)))))\n",
    "        self.uid2idx = dict(zip(self.data.users.uID,list(range(len(self.data.users)))))\n",
    "        self.Mr=self.rating_matrix()\n",
    "        self.Mm=None \n",
    "        self.sim=np.zeros((len(self.allmovies),len(self.allmovies)))\n",
    "        \n",
    "    def rating_matrix(self):\n",
    "        \"\"\"\n",
    "        Convert the rating matrix to numpy array of shape (#allusers,#allmovies)\n",
    "        \"\"\"\n",
    "        ind_movie = [self.mid2idx[x] for x in self.data.train.mID] \n",
    "        ind_user = [self.uid2idx[x] for x in self.data.train.uID]\n",
    "        rating_train = list(self.data.train.rating)\n",
    "        \n",
    "        return np.array(coo_matrix((rating_train, (ind_user, ind_movie)), shape=(len(self.allusers), len(self.allmovies))).toarray())\n",
    "\n",
    "\n",
    "    def predict_everything_to_3(self):\n",
    "        \"\"\"\n",
    "        Predict everything to 3 for the test data\n",
    "        \"\"\"\n",
    "        y_3=np.array(self.data.test.rating)\n",
    "        y_3[:]=3\n",
    "        return y_3 \n",
    "    \n",
    "        \n",
    "    def predict_to_user_average(self):\n",
    "        \"\"\"\n",
    "        Predict to average rating for the user.\n",
    "        Returns numpy array of shape (#users,)\n",
    "        \"\"\"\n",
    "        ave = self.data.train.groupby(['uID']).mean() \n",
    "        ave = ave.drop('mID',axis=1)\n",
    "        ave = ave.rename(columns={'rating': 'rating_ave'})\n",
    "        y_ave = pd.merge(self.data.test, ave, on=\"uID\", how=\"left\")\n",
    "        return y_ave.rating_ave \n",
    "    \n",
    "    \n",
    "    def rmse(self,yp):\n",
    "        yp[np.isnan(yp)]=3 #In case there is nan values in prediction, it will impute to 3.\n",
    "        yt=np.array(self.data.test.rating)\n",
    "        return np.sqrt(((yt-yp)**2).mean())"
   ]
  },
  {
   "cell_type": "code",
   "execution_count": 9,
   "id": "39dcb96e",
   "metadata": {},
   "outputs": [],
   "source": [
    "# Creating Sample test data\n",
    "np.random.seed(42)\n",
    "sample_train = train[:500]\n",
    "sample_test = test[:500]\n",
    "\n",
    "sample_MV_users = MV_users[(MV_users.uID.isin(sample_train.uID)) | (MV_users.uID.isin(sample_test.uID))]\n",
    "sample_MV_movies = MV_movies[(MV_movies.mID.isin(sample_train.mID)) | (MV_movies.mID.isin(sample_test.mID))]\n",
    "\n",
    "sample_data = Data(sample_MV_users, sample_MV_movies, sample_train, sample_test)"
   ]
  },
  {
   "cell_type": "code",
   "execution_count": 10,
   "id": "71522040",
   "metadata": {},
   "outputs": [
    {
     "name": "stdout",
     "output_type": "stream",
     "text": [
      "1.2449899597988732\n"
     ]
    }
   ],
   "source": [
    "# Sample tests predict_everything_to_3 in class RecSys\n",
    "sample_rs = RecSys(sample_data)\n",
    "sample_yp = sample_rs.predict_everything_to_3()\n",
    "print(sample_rs.rmse(sample_yp))"
   ]
  },
  {
   "cell_type": "code",
   "execution_count": 11,
   "id": "dc96f9e0",
   "metadata": {},
   "outputs": [
    {
     "name": "stdout",
     "output_type": "stream",
     "text": [
      "1.300769003320728\n"
     ]
    }
   ],
   "source": [
    "# Sample tests predict_to_user_average in the class RecSys\n",
    "sample_yp = sample_rs.predict_to_user_average()\n",
    "print(sample_rs.rmse(sample_yp))"
   ]
  },
  {
   "cell_type": "code",
   "execution_count": 12,
   "id": "a0df9b5e",
   "metadata": {},
   "outputs": [],
   "source": [
    "warnings.simplefilter('ignore')\n",
    "sample_test['ind_user'] = sample_test['uID'].map(sample_rs.uid2idx)\n",
    "sample_test['ind_movie'] = sample_test['mID'].map(sample_rs.mid2idx)"
   ]
  },
  {
   "cell_type": "markdown",
   "id": "7a38c98c",
   "metadata": {},
   "source": [
    "## - predict the missing ratings from the test data by using sklearn's non-negative matrix facorization library."
   ]
  },
  {
   "cell_type": "code",
   "execution_count": 13,
   "id": "b3858002",
   "metadata": {},
   "outputs": [
    {
     "name": "stdout",
     "output_type": "stream",
     "text": [
      "n_components = 10  ->  RMSE =  3.7312196397424797\n",
      "n_components = 11  ->  RMSE =  3.7312196397424797\n",
      "n_components = 12  ->  RMSE =  3.7312196397424797\n",
      "n_components = 13  ->  RMSE =  3.7312196397424797\n",
      "n_components = 14  ->  RMSE =  3.7312196397424797\n",
      "n_components = 15  ->  RMSE =  3.7312196397424797\n",
      "n_components = 16  ->  RMSE =  3.7312196397424797\n",
      "n_components = 17  ->  RMSE =  3.7312196397424797\n",
      "n_components = 18  ->  RMSE =  3.7312196397424797\n",
      "n_components = 19  ->  RMSE =  3.7312196397424797\n",
      "n_components = 20  ->  RMSE =  3.7312196397424797\n"
     ]
    }
   ],
   "source": [
    "#NMF\n",
    "\n",
    "warnings.simplefilter('ignore')\n",
    "\n",
    "for k in range(10,21):\n",
    "    model = NMF(n_components=k, init='random', max_iter=100, random_state=0)\n",
    "    P = model.fit_transform(sample_rs.Mr)\n",
    "    Q = model.components_\n",
    "    \n",
    "    def predict(uID, mID):\n",
    "        return np.dot(P[uID], Q[:, mID])\n",
    "    \n",
    "    sample_test['predict'] = sample_test[['ind_user', 'ind_movie']].apply(lambda text: predict(text[0], text[1]), axis=1)\n",
    "    print(\"n_components =\",k, \" ->  RMSE =\",  sample_rs.rmse(sample_test.predict))"
   ]
  },
  {
   "cell_type": "code",
   "execution_count": 14,
   "id": "7d645ab5",
   "metadata": {},
   "outputs": [
    {
     "data": {
      "text/html": [
       "<div>\n",
       "<style scoped>\n",
       "    .dataframe tbody tr th:only-of-type {\n",
       "        vertical-align: middle;\n",
       "    }\n",
       "\n",
       "    .dataframe tbody tr th {\n",
       "        vertical-align: top;\n",
       "    }\n",
       "\n",
       "    .dataframe thead th {\n",
       "        text-align: right;\n",
       "    }\n",
       "</style>\n",
       "<table border=\"1\" class=\"dataframe\">\n",
       "  <thead>\n",
       "    <tr style=\"text-align: right;\">\n",
       "      <th></th>\n",
       "      <th>uID</th>\n",
       "      <th>mID</th>\n",
       "      <th>rating</th>\n",
       "      <th>time</th>\n",
       "      <th>ind_user</th>\n",
       "      <th>ind_movie</th>\n",
       "      <th>predict</th>\n",
       "    </tr>\n",
       "  </thead>\n",
       "  <tbody>\n",
       "    <tr>\n",
       "      <th>895536</th>\n",
       "      <td>5412</td>\n",
       "      <td>2683</td>\n",
       "      <td>2</td>\n",
       "      <td>960243649</td>\n",
       "      <td>747</td>\n",
       "      <td>503</td>\n",
       "      <td>0.0</td>\n",
       "    </tr>\n",
       "    <tr>\n",
       "      <th>899739</th>\n",
       "      <td>5440</td>\n",
       "      <td>904</td>\n",
       "      <td>5</td>\n",
       "      <td>959995181</td>\n",
       "      <td>751</td>\n",
       "      <td>155</td>\n",
       "      <td>0.0</td>\n",
       "    </tr>\n",
       "    <tr>\n",
       "      <th>55687</th>\n",
       "      <td>368</td>\n",
       "      <td>3717</td>\n",
       "      <td>4</td>\n",
       "      <td>976311423</td>\n",
       "      <td>43</td>\n",
       "      <td>683</td>\n",
       "      <td>0.0</td>\n",
       "    </tr>\n",
       "    <tr>\n",
       "      <th>63727</th>\n",
       "      <td>425</td>\n",
       "      <td>1721</td>\n",
       "      <td>4</td>\n",
       "      <td>976283587</td>\n",
       "      <td>51</td>\n",
       "      <td>332</td>\n",
       "      <td>0.0</td>\n",
       "    </tr>\n",
       "    <tr>\n",
       "      <th>822011</th>\n",
       "      <td>4942</td>\n",
       "      <td>3697</td>\n",
       "      <td>1</td>\n",
       "      <td>962642480</td>\n",
       "      <td>679</td>\n",
       "      <td>670</td>\n",
       "      <td>0.0</td>\n",
       "    </tr>\n",
       "  </tbody>\n",
       "</table>\n",
       "</div>"
      ],
      "text/plain": [
       "         uID   mID  rating       time  ind_user  ind_movie  predict\n",
       "895536  5412  2683       2  960243649       747        503      0.0\n",
       "899739  5440   904       5  959995181       751        155      0.0\n",
       "55687    368  3717       4  976311423        43        683      0.0\n",
       "63727    425  1721       4  976283587        51        332      0.0\n",
       "822011  4942  3697       1  962642480       679        670      0.0"
      ]
     },
     "execution_count": 14,
     "metadata": {},
     "output_type": "execute_result"
    }
   ],
   "source": [
    "sample_test.head()"
   ]
  },
  {
   "cell_type": "code",
   "execution_count": 15,
   "id": "77023868",
   "metadata": {},
   "outputs": [
    {
     "data": {
      "text/html": [
       "<div>\n",
       "<style scoped>\n",
       "    .dataframe tbody tr th:only-of-type {\n",
       "        vertical-align: middle;\n",
       "    }\n",
       "\n",
       "    .dataframe tbody tr th {\n",
       "        vertical-align: top;\n",
       "    }\n",
       "\n",
       "    .dataframe thead th {\n",
       "        text-align: right;\n",
       "    }\n",
       "</style>\n",
       "<table border=\"1\" class=\"dataframe\">\n",
       "  <thead>\n",
       "    <tr style=\"text-align: right;\">\n",
       "      <th></th>\n",
       "      <th>uID</th>\n",
       "      <th>mID</th>\n",
       "      <th>rating</th>\n",
       "      <th>time</th>\n",
       "      <th>ind_user</th>\n",
       "      <th>ind_movie</th>\n",
       "      <th>predict</th>\n",
       "    </tr>\n",
       "  </thead>\n",
       "  <tbody>\n",
       "    <tr>\n",
       "      <th>count</th>\n",
       "      <td>500.000000</td>\n",
       "      <td>500.000000</td>\n",
       "      <td>500.000000</td>\n",
       "      <td>5.000000e+02</td>\n",
       "      <td>500.000000</td>\n",
       "      <td>500.00000</td>\n",
       "      <td>5.000000e+02</td>\n",
       "    </tr>\n",
       "    <tr>\n",
       "      <th>mean</th>\n",
       "      <td>3087.670000</td>\n",
       "      <td>1843.576000</td>\n",
       "      <td>3.562000</td>\n",
       "      <td>9.716229e+08</td>\n",
       "      <td>423.378000</td>\n",
       "      <td>345.83600</td>\n",
       "      <td>2.477180e-52</td>\n",
       "    </tr>\n",
       "    <tr>\n",
       "      <th>std</th>\n",
       "      <td>1781.291636</td>\n",
       "      <td>1134.030311</td>\n",
       "      <td>1.112038</td>\n",
       "      <td>1.178799e+07</td>\n",
       "      <td>247.791542</td>\n",
       "      <td>210.03778</td>\n",
       "      <td>5.522062e-51</td>\n",
       "    </tr>\n",
       "    <tr>\n",
       "      <th>min</th>\n",
       "      <td>10.000000</td>\n",
       "      <td>9.000000</td>\n",
       "      <td>1.000000</td>\n",
       "      <td>9.567165e+08</td>\n",
       "      <td>0.000000</td>\n",
       "      <td>2.00000</td>\n",
       "      <td>0.000000e+00</td>\n",
       "    </tr>\n",
       "    <tr>\n",
       "      <th>25%</th>\n",
       "      <td>1416.000000</td>\n",
       "      <td>917.500000</td>\n",
       "      <td>3.000000</td>\n",
       "      <td>9.651904e+08</td>\n",
       "      <td>205.750000</td>\n",
       "      <td>161.50000</td>\n",
       "      <td>0.000000e+00</td>\n",
       "    </tr>\n",
       "    <tr>\n",
       "      <th>50%</th>\n",
       "      <td>3262.000000</td>\n",
       "      <td>1720.000000</td>\n",
       "      <td>4.000000</td>\n",
       "      <td>9.712517e+08</td>\n",
       "      <td>427.000000</td>\n",
       "      <td>331.50000</td>\n",
       "      <td>0.000000e+00</td>\n",
       "    </tr>\n",
       "    <tr>\n",
       "      <th>75%</th>\n",
       "      <td>4549.250000</td>\n",
       "      <td>2764.750000</td>\n",
       "      <td>4.000000</td>\n",
       "      <td>9.751198e+08</td>\n",
       "      <td>629.250000</td>\n",
       "      <td>526.25000</td>\n",
       "      <td>0.000000e+00</td>\n",
       "    </tr>\n",
       "    <tr>\n",
       "      <th>max</th>\n",
       "      <td>6040.000000</td>\n",
       "      <td>3925.000000</td>\n",
       "      <td>5.000000</td>\n",
       "      <td>1.045456e+09</td>\n",
       "      <td>839.000000</td>\n",
       "      <td>714.00000</td>\n",
       "      <td>1.234772e-49</td>\n",
       "    </tr>\n",
       "  </tbody>\n",
       "</table>\n",
       "</div>"
      ],
      "text/plain": [
       "               uID          mID      rating          time    ind_user  \\\n",
       "count   500.000000   500.000000  500.000000  5.000000e+02  500.000000   \n",
       "mean   3087.670000  1843.576000    3.562000  9.716229e+08  423.378000   \n",
       "std    1781.291636  1134.030311    1.112038  1.178799e+07  247.791542   \n",
       "min      10.000000     9.000000    1.000000  9.567165e+08    0.000000   \n",
       "25%    1416.000000   917.500000    3.000000  9.651904e+08  205.750000   \n",
       "50%    3262.000000  1720.000000    4.000000  9.712517e+08  427.000000   \n",
       "75%    4549.250000  2764.750000    4.000000  9.751198e+08  629.250000   \n",
       "max    6040.000000  3925.000000    5.000000  1.045456e+09  839.000000   \n",
       "\n",
       "       ind_movie       predict  \n",
       "count  500.00000  5.000000e+02  \n",
       "mean   345.83600  2.477180e-52  \n",
       "std    210.03778  5.522062e-51  \n",
       "min      2.00000  0.000000e+00  \n",
       "25%    161.50000  0.000000e+00  \n",
       "50%    331.50000  0.000000e+00  \n",
       "75%    526.25000  0.000000e+00  \n",
       "max    714.00000  1.234772e-49  "
      ]
     },
     "execution_count": 15,
     "metadata": {},
     "output_type": "execute_result"
    }
   ],
   "source": [
    "sample_test.describe()"
   ]
  },
  {
   "cell_type": "markdown",
   "id": "7ccbe630",
   "metadata": {},
   "source": [
    "-> sklearn's non-negative matrix facorization library did not work well compared to simple baseline we’ve done in Module 3.<br>\n",
    "-> Predict values are very small and RMSE=3.73."
   ]
  },
  {
   "cell_type": "markdown",
   "id": "3437ccc4",
   "metadata": {},
   "source": [
    " "
   ]
  },
  {
   "cell_type": "markdown",
   "id": "0d88f58b",
   "metadata": {},
   "source": [
    "One reason is that sklearn's non-negative matrix facorization library considers all elements, including the \"0\" element, when updating the optimization. This can be fatal when dealing with sparse matrices. A sample of a small matrix is shown below."
   ]
  },
  {
   "cell_type": "code",
   "execution_count": 22,
   "id": "effbf37c",
   "metadata": {},
   "outputs": [
    {
     "name": "stdout",
     "output_type": "stream",
     "text": [
      "[[0. 0. 3. 0.]\n",
      " [1. 2. 0. 0.]\n",
      " [0. 0. 0. 5.]\n",
      " [1. 0. 0. 3.]\n",
      " [0. 0. 0. 4.]]\n"
     ]
    }
   ],
   "source": [
    "R = np.array([\n",
    "        [0, 0, 3, 0],\n",
    "        [1, 2, 0, 0],\n",
    "        [0, 0, 0, 5],\n",
    "        [1, 0, 0, 3],\n",
    "        [0, 0, 0, 4],\n",
    "        ])\n",
    "\n",
    "model = NMF(n_components=5, init='random', max_iter=200, random_state=0)\n",
    "P = model.fit_transform(R)\n",
    "Q = model.components_\n",
    "print(np.round(np.dot(P, Q), 0))"
   ]
  },
  {
   "cell_type": "markdown",
   "id": "b012d1e7",
   "metadata": {},
   "source": [
    "-> It has been reproduced including 0."
   ]
  },
  {
   "cell_type": "markdown",
   "id": "9fa6005a",
   "metadata": {},
   "source": [
    "# Part 2. suggest a way to fix\n",
    "\n",
    "One possible improvement would be the process of excluding \"0\" elements when updating the optimization. The actual code and results are shown below"
   ]
  },
  {
   "cell_type": "code",
   "execution_count": 17,
   "id": "dab49491",
   "metadata": {},
   "outputs": [],
   "source": [
    "def get_rating_error(r, p, q):\n",
    "    return r - np.dot(p, q)\n",
    "\n",
    "\n",
    "def get_error(R, P, Q, beta):\n",
    "    error = 0.0\n",
    "    for i in range(len(R)):\n",
    "        for j in range(len(R[i])):\n",
    "            if R[i][j] == 0:\n",
    "                continue\n",
    "            error += pow(get_rating_error(R[i][j], P[:,i], Q[:,j]), 2)\n",
    "    error += beta/2.0 * (np.linalg.norm(P) + np.linalg.norm(Q))\n",
    "    return error\n",
    "\n",
    "\n",
    "def matrix_factorization(R, K, steps=200, alpha=0.0002, beta=0.001, threshold=0.001):\n",
    "    P = np.random.rand(K, len(R))\n",
    "    Q = np.random.rand(K, len(R[0]))\n",
    "    for step in range(steps):\n",
    "        for i in range(len(R)):\n",
    "            for j in range(len(R[i])):\n",
    "                if R[i][j] == 0:\n",
    "                    continue\n",
    "                err = get_rating_error(R[i][j], P[:, i], Q[:, j])\n",
    "                for k in range(K):\n",
    "                    P[k][i] += alpha * (2 * err * Q[k][j])\n",
    "                    Q[k][j] += alpha * (2 * err * P[k][i])\n",
    "        error = get_error(R, P, Q, beta)\n",
    "        if error < threshold:\n",
    "            break\n",
    "    return P.T, Q"
   ]
  },
  {
   "cell_type": "code",
   "execution_count": 18,
   "id": "1515b534",
   "metadata": {},
   "outputs": [
    {
     "name": "stdout",
     "output_type": "stream",
     "text": [
      "[[1. 1. 1. 1.]\n",
      " [2. 1. 2. 2.]\n",
      " [2. 2. 2. 3.]\n",
      " [1. 1. 1. 2.]\n",
      " [1. 1. 1. 1.]]\n"
     ]
    }
   ],
   "source": [
    "R = np.array([\n",
    "        [0, 0, 3, 0],\n",
    "        [1, 2, 0, 0],\n",
    "        [0, 0, 0, 5],\n",
    "        [1, 0, 0, 3],\n",
    "        [0, 0, 0, 4],\n",
    "        ])\n",
    "\n",
    "P, Q = matrix_factorization(R, K=5)\n",
    "print(np.round(np.dot(P, Q), 0))"
   ]
  },
  {
   "cell_type": "markdown",
   "id": "354b5330",
   "metadata": {},
   "source": [
    "-> Elements that were originally 0 also have a value."
   ]
  },
  {
   "cell_type": "code",
   "execution_count": 19,
   "id": "da770862",
   "metadata": {},
   "outputs": [
    {
     "name": "stdout",
     "output_type": "stream",
     "text": [
      "n_components = 10  -> RMSE =  1.6227037698808522\n",
      "n_components = 11  -> RMSE =  1.4905961950674378\n",
      "n_components = 12  -> RMSE =  1.3993820182912915\n",
      "n_components = 13  -> RMSE =  1.3976815733056576\n",
      "n_components = 14  -> RMSE =  1.3083581635279784\n",
      "n_components = 15  -> RMSE =  1.3715061792308623\n",
      "n_components = 16  -> RMSE =  1.4086018551673194\n",
      "n_components = 17  -> RMSE =  1.3936116567106112\n",
      "n_components = 18  -> RMSE =  1.4201853548970003\n",
      "n_components = 19  -> RMSE =  1.532221730241253\n",
      "n_components = 20  -> RMSE =  1.5984162485871336\n"
     ]
    }
   ],
   "source": [
    "#NMF 2 \n",
    "\n",
    "warnings.simplefilter('ignore')\n",
    "\n",
    "for k in range(10,21):\n",
    "    P, Q = matrix_factorization(sample_rs.Mr, K=k)\n",
    "    \n",
    "    def predict(uID, mID):\n",
    "        return min(5, np.dot(P[uID], Q[:, mID]))\n",
    "    \n",
    "    sample_test['predict2'] = sample_test[['ind_user', 'ind_movie']].apply(lambda text: predict(text[0], text[1]), axis=1)\n",
    "    print(\"n_components =\",k, \" -> RMSE =\",  sample_rs.rmse(sample_test.predict2))"
   ]
  },
  {
   "cell_type": "markdown",
   "id": "c805004f",
   "metadata": {},
   "source": [
    "-> RMSE improved to 1.308, the result does not significantly different from other methods."
   ]
  },
  {
   "cell_type": "code",
   "execution_count": null,
   "id": "6b25679d",
   "metadata": {},
   "outputs": [],
   "source": []
  }
 ],
 "metadata": {
  "kernelspec": {
   "display_name": "Python 3 (ipykernel)",
   "language": "python",
   "name": "python3"
  },
  "language_info": {
   "codemirror_mode": {
    "name": "ipython",
    "version": 3
   },
   "file_extension": ".py",
   "mimetype": "text/x-python",
   "name": "python",
   "nbconvert_exporter": "python",
   "pygments_lexer": "ipython3",
   "version": "3.8.3"
  }
 },
 "nbformat": 4,
 "nbformat_minor": 5
}
